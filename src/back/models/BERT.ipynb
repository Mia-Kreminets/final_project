{
  "nbformat": 4,
  "nbformat_minor": 0,
  "metadata": {
    "colab": {
      "provenance": []
    },
    "kernelspec": {
      "name": "python3",
      "display_name": "Python 3 (ipykernel)",
      "language": "python"
    },
    "language_info": {
      "name": "python"
    },
    "accelerator": "GPU",
    "widgets": {
      "application/vnd.jupyter.widget-state+json": {}
    }
  },
  "cells": [
    {
      "metadata": {
        "ExecuteTime": {
          "end_time": "2024-05-19T10:00:47.187607Z",
          "start_time": "2024-05-19T10:00:47.172411Z"
        },
        "id": "zlc3xCTTjlQV"
      },
      "cell_type": "code",
      "source": [
        "import pandas as pd\n",
        "\n",
        "df = pd.read_csv('Stress.csv')"
      ],
      "outputs": [],
      "execution_count": null
    },
    {
      "metadata": {
        "ExecuteTime": {
          "end_time": "2024-05-19T10:00:47.574430Z",
          "start_time": "2024-05-19T10:00:47.568197Z"
        },
        "id": "ybg0wyBWjlQV",
        "outputId": "30a92d1c-4f68-4ece-918a-b40d19ca4f84"
      },
      "cell_type": "code",
      "source": [
        "df"
      ],
      "outputs": [
        {
          "data": {
            "text/plain": [
              "             subreddit post_id sentence_range  \\\n",
              "0                 ptsd  8601tu       (15, 20)   \n",
              "1           assistance  8lbrx9         (0, 5)   \n",
              "2                 ptsd  9ch1zh       (15, 20)   \n",
              "3        relationships  7rorpp        [5, 10]   \n",
              "4     survivorsofabuse  9p2gbc         [0, 5]   \n",
              "...                ...     ...            ...   \n",
              "2833     relationships  7oee1t       [35, 40]   \n",
              "2834              ptsd  9p4ung       [20, 25]   \n",
              "2835           anxiety  9nam6l        (5, 10)   \n",
              "2836    almosthomeless  5y53ya        [5, 10]   \n",
              "2837              ptsd  5y25cl         [0, 5]   \n",
              "\n",
              "                                                   text  label  confidence  \\\n",
              "0     He said he had not felt that way before, sugge...      1    0.800000   \n",
              "1     Hey there r/assistance, Not sure if this is th...      0    1.000000   \n",
              "2     My mom then hit me with the newspaper and it s...      1    0.800000   \n",
              "3     until i met my new boyfriend, he is amazing, h...      1    0.600000   \n",
              "4     October is Domestic Violence Awareness Month a...      1    0.800000   \n",
              "...                                                 ...    ...         ...   \n",
              "2833  * Her, a week ago: Precious, how are you? (I i...      0    1.000000   \n",
              "2834  I don't have the ability to cope with it anymo...      1    1.000000   \n",
              "2835  In case this is the first time you're reading ...      0    1.000000   \n",
              "2836  Do you find this normal? They have a good rela...      0    0.571429   \n",
              "2837  I was talking to my mom this morning and she s...      1    0.571429   \n",
              "\n",
              "      social_timestamp  \n",
              "0           1521614353  \n",
              "1           1527009817  \n",
              "2           1535935605  \n",
              "3           1516429555  \n",
              "4           1539809005  \n",
              "...                ...  \n",
              "2833        1515187044  \n",
              "2834        1539827412  \n",
              "2835        1539269312  \n",
              "2836        1488938143  \n",
              "2837        1488909516  \n",
              "\n",
              "[2838 rows x 7 columns]"
            ],
            "text/html": [
              "<div>\n",
              "<style scoped>\n",
              "    .dataframe tbody tr th:only-of-type {\n",
              "        vertical-align: middle;\n",
              "    }\n",
              "\n",
              "    .dataframe tbody tr th {\n",
              "        vertical-align: top;\n",
              "    }\n",
              "\n",
              "    .dataframe thead th {\n",
              "        text-align: right;\n",
              "    }\n",
              "</style>\n",
              "<table border=\"1\" class=\"dataframe\">\n",
              "  <thead>\n",
              "    <tr style=\"text-align: right;\">\n",
              "      <th></th>\n",
              "      <th>subreddit</th>\n",
              "      <th>post_id</th>\n",
              "      <th>sentence_range</th>\n",
              "      <th>text</th>\n",
              "      <th>label</th>\n",
              "      <th>confidence</th>\n",
              "      <th>social_timestamp</th>\n",
              "    </tr>\n",
              "  </thead>\n",
              "  <tbody>\n",
              "    <tr>\n",
              "      <th>0</th>\n",
              "      <td>ptsd</td>\n",
              "      <td>8601tu</td>\n",
              "      <td>(15, 20)</td>\n",
              "      <td>He said he had not felt that way before, sugge...</td>\n",
              "      <td>1</td>\n",
              "      <td>0.800000</td>\n",
              "      <td>1521614353</td>\n",
              "    </tr>\n",
              "    <tr>\n",
              "      <th>1</th>\n",
              "      <td>assistance</td>\n",
              "      <td>8lbrx9</td>\n",
              "      <td>(0, 5)</td>\n",
              "      <td>Hey there r/assistance, Not sure if this is th...</td>\n",
              "      <td>0</td>\n",
              "      <td>1.000000</td>\n",
              "      <td>1527009817</td>\n",
              "    </tr>\n",
              "    <tr>\n",
              "      <th>2</th>\n",
              "      <td>ptsd</td>\n",
              "      <td>9ch1zh</td>\n",
              "      <td>(15, 20)</td>\n",
              "      <td>My mom then hit me with the newspaper and it s...</td>\n",
              "      <td>1</td>\n",
              "      <td>0.800000</td>\n",
              "      <td>1535935605</td>\n",
              "    </tr>\n",
              "    <tr>\n",
              "      <th>3</th>\n",
              "      <td>relationships</td>\n",
              "      <td>7rorpp</td>\n",
              "      <td>[5, 10]</td>\n",
              "      <td>until i met my new boyfriend, he is amazing, h...</td>\n",
              "      <td>1</td>\n",
              "      <td>0.600000</td>\n",
              "      <td>1516429555</td>\n",
              "    </tr>\n",
              "    <tr>\n",
              "      <th>4</th>\n",
              "      <td>survivorsofabuse</td>\n",
              "      <td>9p2gbc</td>\n",
              "      <td>[0, 5]</td>\n",
              "      <td>October is Domestic Violence Awareness Month a...</td>\n",
              "      <td>1</td>\n",
              "      <td>0.800000</td>\n",
              "      <td>1539809005</td>\n",
              "    </tr>\n",
              "    <tr>\n",
              "      <th>...</th>\n",
              "      <td>...</td>\n",
              "      <td>...</td>\n",
              "      <td>...</td>\n",
              "      <td>...</td>\n",
              "      <td>...</td>\n",
              "      <td>...</td>\n",
              "      <td>...</td>\n",
              "    </tr>\n",
              "    <tr>\n",
              "      <th>2833</th>\n",
              "      <td>relationships</td>\n",
              "      <td>7oee1t</td>\n",
              "      <td>[35, 40]</td>\n",
              "      <td>* Her, a week ago: Precious, how are you? (I i...</td>\n",
              "      <td>0</td>\n",
              "      <td>1.000000</td>\n",
              "      <td>1515187044</td>\n",
              "    </tr>\n",
              "    <tr>\n",
              "      <th>2834</th>\n",
              "      <td>ptsd</td>\n",
              "      <td>9p4ung</td>\n",
              "      <td>[20, 25]</td>\n",
              "      <td>I don't have the ability to cope with it anymo...</td>\n",
              "      <td>1</td>\n",
              "      <td>1.000000</td>\n",
              "      <td>1539827412</td>\n",
              "    </tr>\n",
              "    <tr>\n",
              "      <th>2835</th>\n",
              "      <td>anxiety</td>\n",
              "      <td>9nam6l</td>\n",
              "      <td>(5, 10)</td>\n",
              "      <td>In case this is the first time you're reading ...</td>\n",
              "      <td>0</td>\n",
              "      <td>1.000000</td>\n",
              "      <td>1539269312</td>\n",
              "    </tr>\n",
              "    <tr>\n",
              "      <th>2836</th>\n",
              "      <td>almosthomeless</td>\n",
              "      <td>5y53ya</td>\n",
              "      <td>[5, 10]</td>\n",
              "      <td>Do you find this normal? They have a good rela...</td>\n",
              "      <td>0</td>\n",
              "      <td>0.571429</td>\n",
              "      <td>1488938143</td>\n",
              "    </tr>\n",
              "    <tr>\n",
              "      <th>2837</th>\n",
              "      <td>ptsd</td>\n",
              "      <td>5y25cl</td>\n",
              "      <td>[0, 5]</td>\n",
              "      <td>I was talking to my mom this morning and she s...</td>\n",
              "      <td>1</td>\n",
              "      <td>0.571429</td>\n",
              "      <td>1488909516</td>\n",
              "    </tr>\n",
              "  </tbody>\n",
              "</table>\n",
              "<p>2838 rows × 7 columns</p>\n",
              "</div>"
            ]
          },
          "execution_count": 3,
          "metadata": {},
          "output_type": "execute_result"
        }
      ],
      "execution_count": null
    },
    {
      "cell_type": "code",
      "metadata": {
        "id": "sd1LiXGjZ420",
        "ExecuteTime": {
          "end_time": "2024-05-19T10:00:55.133178Z",
          "start_time": "2024-05-19T10:00:55.120496Z"
        }
      },
      "source": [
        "from datasets import Dataset\n",
        "\n",
        "dataset = Dataset.from_pandas(df).train_test_split(test_size=0.1, seed=44)"
      ],
      "outputs": [],
      "execution_count": null
    },
    {
      "cell_type": "code",
      "metadata": {
        "colab": {
          "base_uri": "https://localhost:8080/"
        },
        "id": "pRd1kXQZjYIY",
        "outputId": "8021590c-5607-4a9c-a474-bc57da503c93",
        "ExecuteTime": {
          "end_time": "2024-05-19T10:00:56.208415Z",
          "start_time": "2024-05-19T10:00:56.206281Z"
        }
      },
      "source": [
        "dataset"
      ],
      "outputs": [
        {
          "data": {
            "text/plain": [
              "DatasetDict({\n",
              "    train: Dataset({\n",
              "        features: ['subreddit', 'post_id', 'sentence_range', 'text', 'label', 'confidence', 'social_timestamp'],\n",
              "        num_rows: 2554\n",
              "    })\n",
              "    test: Dataset({\n",
              "        features: ['subreddit', 'post_id', 'sentence_range', 'text', 'label', 'confidence', 'social_timestamp'],\n",
              "        num_rows: 284\n",
              "    })\n",
              "})"
            ]
          },
          "execution_count": 7,
          "metadata": {},
          "output_type": "execute_result"
        }
      ],
      "execution_count": null
    },
    {
      "cell_type": "code",
      "metadata": {
        "colab": {
          "base_uri": "https://localhost:8080/"
        },
        "id": "unjuTtKUjZI3",
        "outputId": "6f1e5051-8272-40f9-ced8-ba17a105e904",
        "ExecuteTime": {
          "end_time": "2024-05-19T10:00:57.282767Z",
          "start_time": "2024-05-19T10:00:57.280204Z"
        }
      },
      "source": [
        "example = dataset['train'][0]\n",
        "example"
      ],
      "outputs": [
        {
          "data": {
            "text/plain": [
              "{'subreddit': 'relationships',\n",
              " 'post_id': '7r7f7b',\n",
              " 'sentence_range': '[10, 15]',\n",
              " 'text': 'Therefore, it should probably come as no surprise that I sprung the question of \"What exactly are we doing here?\". Well, that backfired, as he alluded to the fact he was too freshly out of a long term relationship and didn\\'t want to commit yet (Jason had been single for more than a year and it was a 3 year relationship). I bit my tongue until it bled and told him that was okay because we had more friends in common by that point, despite saying I needed some direct space for a few weeks or more. Unfortunately, what followed could have not been more violent. Not the type of physical violence, but emotional tension and turmoil fueled by running into each other at social settings and by alcohol.',\n",
              " 'label': 1,\n",
              " 'confidence': 1.0,\n",
              " 'social_timestamp': 1516252178}"
            ]
          },
          "execution_count": 8,
          "metadata": {},
          "output_type": "execute_result"
        }
      ],
      "execution_count": null
    },
    {
      "cell_type": "code",
      "metadata": {
        "colab": {
          "base_uri": "https://localhost:8080/"
        },
        "id": "e5vZhQpvkE8s",
        "outputId": "5d513b30-f209-492f-c6ab-245d64a67d40",
        "ExecuteTime": {
          "end_time": "2024-05-19T10:00:58.809402Z",
          "start_time": "2024-05-19T10:00:58.806975Z"
        }
      },
      "source": [
        "labels = ['label']\n",
        "id2label = {idx: label for idx, label in enumerate(labels)}\n",
        "label2id = {label: idx for idx, label in enumerate(labels)}\n",
        "labels"
      ],
      "outputs": [
        {
          "data": {
            "text/plain": [
              "['label']"
            ]
          },
          "execution_count": 9,
          "metadata": {},
          "output_type": "execute_result"
        }
      ],
      "execution_count": null
    },
    {
      "cell_type": "code",
      "metadata": {
        "id": "AFWlSsbZaRLc",
        "ExecuteTime": {
          "end_time": "2024-05-19T10:25:21.932238Z",
          "start_time": "2024-05-19T10:25:21.417938Z"
        }
      },
      "source": [
        "from transformers import AutoTokenizer\n",
        "import numpy as np\n",
        "\n",
        "tokenizer = AutoTokenizer.from_pretrained(\"bert-base-uncased\")\n",
        "\n",
        "\n",
        "def preprocess_data(examples):\n",
        "    text = examples[\"text\"]\n",
        "    encoding = tokenizer(text, padding=\"max_length\", truncation=True, max_length=128)\n",
        "\n",
        "    encoding[\"labels\"] = [\n",
        "        [float(1 - examples['confidence'][index]), float(examples['confidence'][index])] if el == 1 else\n",
        "        [float(examples['confidence'][index]), float(1 - examples['confidence'][index])]\n",
        "        for index, el in enumerate(examples['label'])]\n",
        "\n",
        "    encoding[\"labels\"] = [[float(el)] for index, el in enumerate(examples['label'])]\n",
        "\n",
        "    return encoding"
      ],
      "outputs": [],
      "execution_count": null
    },
    {
      "cell_type": "code",
      "metadata": {
        "colab": {
          "base_uri": "https://localhost:8080/",
          "referenced_widgets": [
            "fe6c828260c845ceb3f8141909cd4568",
            "e78a5b759558470181a007aae79d740a"
          ]
        },
        "id": "i4ENBTdulBEI",
        "outputId": "02554a1f-4961-461a-bf29-555b8debeabf",
        "ExecuteTime": {
          "end_time": "2024-05-19T10:25:22.487349Z",
          "start_time": "2024-05-19T10:25:22.340477Z"
        }
      },
      "source": [
        "encoded_dataset = dataset.map(preprocess_data, batched=True, remove_columns=dataset['train'].column_names)"
      ],
      "outputs": [
        {
          "data": {
            "text/plain": [
              "Map:   0%|          | 0/2554 [00:00<?, ? examples/s]"
            ],
            "application/vnd.jupyter.widget-view+json": {
              "version_major": 2,
              "version_minor": 0,
              "model_id": "fe6c828260c845ceb3f8141909cd4568"
            }
          },
          "metadata": {},
          "output_type": "display_data"
        },
        {
          "data": {
            "text/plain": [
              "Map:   0%|          | 0/284 [00:00<?, ? examples/s]"
            ],
            "application/vnd.jupyter.widget-view+json": {
              "version_major": 2,
              "version_minor": 0,
              "model_id": "e78a5b759558470181a007aae79d740a"
            }
          },
          "metadata": {},
          "output_type": "display_data"
        }
      ],
      "execution_count": null
    },
    {
      "cell_type": "code",
      "metadata": {
        "colab": {
          "base_uri": "https://localhost:8080/"
        },
        "id": "0enAb0W9o25W",
        "outputId": "55bc5ba6-d169-49c6-f562-bb7ea4143866",
        "ExecuteTime": {
          "end_time": "2024-05-19T10:25:22.788327Z",
          "start_time": "2024-05-19T10:25:22.785955Z"
        }
      },
      "source": [
        "example = encoded_dataset['train'][15]\n",
        "print(example.keys())"
      ],
      "outputs": [
        {
          "name": "stdout",
          "output_type": "stream",
          "text": [
            "dict_keys(['input_ids', 'token_type_ids', 'attention_mask', 'labels'])\n"
          ]
        }
      ],
      "execution_count": null
    },
    {
      "cell_type": "code",
      "metadata": {
        "colab": {
          "base_uri": "https://localhost:8080/",
          "height": 137
        },
        "id": "D0McCtJ8HRJY",
        "outputId": "82fb0336-51a3-40ad-ebc0-65eeb7cf4b6c",
        "ExecuteTime": {
          "end_time": "2024-05-19T10:25:23.167026Z",
          "start_time": "2024-05-19T10:25:23.164339Z"
        }
      },
      "source": [
        "tokenizer.decode(example['input_ids'])"
      ],
      "outputs": [
        {
          "data": {
            "text/plain": [
              "\"[CLS] hey everyone, throwaway for personal reasons. tonight my girlfriend met her lady friend she didn't see for a year. i bought them wine, paid for dinner and was happy to give them the entire night if they wanted to so they could spend time together. later on in the night i received a call at 1am requesting me to take her home. i get there and there's a person i've literally never seen before, a guy. [SEP] [PAD] [PAD] [PAD] [PAD] [PAD] [PAD] [PAD] [PAD] [PAD] [PAD] [PAD] [PAD] [PAD] [PAD] [PAD] [PAD] [PAD] [PAD] [PAD] [PAD] [PAD] [PAD] [PAD] [PAD] [PAD] [PAD] [PAD] [PAD] [PAD] [PAD] [PAD] [PAD] [PAD] [PAD]\""
            ]
          },
          "execution_count": 156,
          "metadata": {},
          "output_type": "execute_result"
        }
      ],
      "execution_count": null
    },
    {
      "cell_type": "code",
      "metadata": {
        "colab": {
          "base_uri": "https://localhost:8080/"
        },
        "id": "VdIvj6WjHeZQ",
        "outputId": "418c14d2-cca3-44e9-d0a2-6ad4ca7a007c",
        "ExecuteTime": {
          "end_time": "2024-05-19T10:25:23.476838Z",
          "start_time": "2024-05-19T10:25:23.474682Z"
        }
      },
      "source": [
        "example['labels']"
      ],
      "outputs": [
        {
          "data": {
            "text/plain": [
              "[0.0]"
            ]
          },
          "execution_count": 157,
          "metadata": {},
          "output_type": "execute_result"
        }
      ],
      "execution_count": null
    },
    {
      "cell_type": "code",
      "metadata": {
        "id": "Lk6Cq9duKBkA",
        "ExecuteTime": {
          "end_time": "2024-05-19T10:25:24.315259Z",
          "start_time": "2024-05-19T10:25:24.313244Z"
        }
      },
      "source": [
        "encoded_dataset.set_format(\"torch\")"
      ],
      "outputs": [],
      "execution_count": null
    },
    {
      "cell_type": "code",
      "metadata": {
        "colab": {
          "base_uri": "https://localhost:8080/"
        },
        "id": "6XPL1Z_RegBF",
        "outputId": "22994300-8c93-421e-faa4-678d6cc14aab",
        "ExecuteTime": {
          "end_time": "2024-05-19T10:33:36.442267Z",
          "start_time": "2024-05-19T10:33:36.193467Z"
        }
      },
      "source": [
        "from transformers import AutoModelForSequenceClassification, BertForSequenceClassification\n",
        "\n",
        "model = AutoModelForSequenceClassification.from_pretrained('bert-base-uncased',\n",
        "                                                           problem_type=\"multi_label_classification\",\n",
        "                                                           num_labels=len(labels),\n",
        "                                                           id2label=id2label,\n",
        "                                                           label2id=label2id)"
      ],
      "outputs": [
        {
          "name": "stderr",
          "output_type": "stream",
          "text": [
            "Some weights of BertForSequenceClassification were not initialized from the model checkpoint at bert-base-uncased and are newly initialized: ['classifier.bias', 'classifier.weight']\n",
            "You should probably TRAIN this model on a down-stream task to be able to use it for predictions and inference.\n"
          ]
        }
      ],
      "execution_count": null
    },
    {
      "cell_type": "code",
      "metadata": {
        "id": "K5a8_vIKqr7P",
        "ExecuteTime": {
          "end_time": "2024-05-19T10:33:36.847248Z",
          "start_time": "2024-05-19T10:33:36.845500Z"
        }
      },
      "source": [
        "batch_size = 16\n",
        "metric_name = \"f1\""
      ],
      "outputs": [],
      "execution_count": null
    },
    {
      "cell_type": "code",
      "metadata": {
        "id": "dR2GmpvDqbuZ",
        "ExecuteTime": {
          "end_time": "2024-05-19T10:33:37.983718Z",
          "start_time": "2024-05-19T10:33:37.498300Z"
        },
        "outputId": "c9a428d9-e715-43b3-c059-1a2b94888e57"
      },
      "source": [
        "from transformers import TrainingArguments, Trainer\n",
        "\n",
        "args = TrainingArguments(\n",
        "    f\"bert-stress-classifier\",\n",
        "    overwrite_output_dir=True,\n",
        "    evaluation_strategy=\"epoch\",\n",
        "    save_strategy=\"no\",\n",
        "    learning_rate=1e-6,\n",
        "    per_device_train_batch_size=batch_size,\n",
        "    per_device_eval_batch_size=batch_size,\n",
        "    num_train_epochs=20,\n",
        "    weight_decay=0.01,\n",
        "    # load_best_model_at_end=True,\n",
        "    metric_for_best_model=metric_name,\n",
        ")"
      ],
      "outputs": [
        {
          "name": "stderr",
          "output_type": "stream",
          "text": [
            "huggingface/tokenizers: The current process just got forked, after parallelism has already been used. Disabling parallelism to avoid deadlocks...\n",
            "To disable this warning, you can either:\n",
            "\t- Avoid using `tokenizers` before the fork if possible\n",
            "\t- Explicitly set the environment variable TOKENIZERS_PARALLELISM=(true | false)\n"
          ]
        }
      ],
      "execution_count": null
    },
    {
      "cell_type": "code",
      "metadata": {
        "id": "797b2WHJqUgZ",
        "ExecuteTime": {
          "end_time": "2024-05-19T10:33:38.290626Z",
          "start_time": "2024-05-19T10:33:38.287309Z"
        }
      },
      "source": [
        "from sklearn.metrics import f1_score, roc_auc_score, accuracy_score\n",
        "from transformers import EvalPrediction\n",
        "import torch\n",
        "\n",
        "\n",
        "def multi_label_metrics(predictions, labels, threshold=0.5):\n",
        "    #  sigmoid on predictions which are of shape (batch_size, num_labels)\n",
        "    sigmoid = torch.nn.Sigmoid()\n",
        "    probs = sigmoid(torch.Tensor(predictions))\n",
        "    #  threshold to turn them into integer predictions\n",
        "    y_pred = np.zeros(probs.shape)\n",
        "    y_pred[np.where(probs >= threshold)] = 1\n",
        "    # finally metrics\n",
        "    y_true = labels\n",
        "    f1_micro_average = f1_score(y_true=y_true, y_pred=y_pred, average='micro')\n",
        "    roc_auc = roc_auc_score(y_true, y_pred, average='micro')\n",
        "    accuracy = accuracy_score(y_true, y_pred)\n",
        "    # return as dictionary\n",
        "    metrics = {'f1': f1_micro_average,\n",
        "               'roc_auc': roc_auc,\n",
        "               'accuracy': accuracy}\n",
        "    return metrics\n",
        "\n",
        "\n",
        "def compute_metrics(p: EvalPrediction):\n",
        "    preds = p.predictions[0] if isinstance(p.predictions,\n",
        "                                           tuple) else p.predictions\n",
        "    result = multi_label_metrics(\n",
        "        predictions=preds,\n",
        "        labels=p.label_ids)\n",
        "    return result"
      ],
      "outputs": [],
      "execution_count": null
    },
    {
      "cell_type": "markdown",
      "metadata": {
        "id": "fxNo4_TsvzDm"
      },
      "source": [
        "Let's verify a batch as well as a forward pass:"
      ]
    },
    {
      "cell_type": "code",
      "metadata": {
        "colab": {
          "base_uri": "https://localhost:8080/",
          "height": 35
        },
        "id": "IlOgGiojuWwG",
        "outputId": "cd0b2c99-b520-468d-8ffc-c36211b7820a",
        "ExecuteTime": {
          "end_time": "2024-05-19T10:33:39.048404Z",
          "start_time": "2024-05-19T10:33:39.045250Z"
        }
      },
      "source": [
        "encoded_dataset['train'][0]['labels'].type()"
      ],
      "outputs": [
        {
          "data": {
            "text/plain": [
              "'torch.FloatTensor'"
            ]
          },
          "execution_count": 193,
          "metadata": {},
          "output_type": "execute_result"
        }
      ],
      "execution_count": null
    },
    {
      "metadata": {
        "ExecuteTime": {
          "end_time": "2024-05-19T10:33:39.438212Z",
          "start_time": "2024-05-19T10:33:39.434587Z"
        },
        "id": "Kmv2qlwCjlQd",
        "outputId": "40eb8640-4145-4b8e-edca-b979763684df"
      },
      "cell_type": "code",
      "source": [
        "encoded_dataset['train'][0]['input_ids'].unsqueeze(0)"
      ],
      "outputs": [
        {
          "data": {
            "text/plain": [
              "tensor([[  101,  3568,  1010,  2009,  2323,  2763,  2272,  2004,  2053,  4474,\n",
              "          2008,  1045, 22057,  1996,  3160,  1997,  1000,  2054,  3599,  2024,\n",
              "          2057,  2725,  2182,  1029,  1000,  1012,  2092,  1010,  2008,  2067,\n",
              "         10273,  2094,  1010,  2004,  2002,  2035, 13936,  2000,  1996,  2755,\n",
              "          2002,  2001,  2205, 20229,  2041,  1997,  1037,  2146,  2744,  3276,\n",
              "          1998,  2134,  1005,  1056,  2215,  2000, 10797,  2664,  1006,  4463,\n",
              "          2018,  2042,  2309,  2005,  2062,  2084,  1037,  2095,  1998,  2009,\n",
              "          2001,  1037,  1017,  2095,  3276,  1007,  1012,  1045,  2978,  2026,\n",
              "          4416,  2127,  2009, 23919,  1998,  2409,  2032,  2008,  2001,  3100,\n",
              "          2138,  2057,  2018,  2062,  2814,  1999,  2691,  2011,  2008,  2391,\n",
              "          1010,  2750,  3038,  1045,  2734,  2070,  3622,  2686,  2005,  1037,\n",
              "          2261,  3134,  2030,  2062,  1012,  6854,  1010,  2054,  2628,  2071,\n",
              "          2031,  2025,  2042,  2062,  6355,  1012,  2025,   102]])"
            ]
          },
          "execution_count": 194,
          "metadata": {},
          "output_type": "execute_result"
        }
      ],
      "execution_count": null
    },
    {
      "cell_type": "code",
      "metadata": {
        "colab": {
          "base_uri": "https://localhost:8080/"
        },
        "id": "Y41Kre_jvD7x",
        "outputId": "b6ca888b-6371-40fb-ab83-3dc24d28320a",
        "ExecuteTime": {
          "end_time": "2024-05-19T10:33:39.682383Z",
          "start_time": "2024-05-19T10:33:39.677376Z"
        }
      },
      "source": [
        "encoded_dataset['train']['input_ids'][0]"
      ],
      "outputs": [
        {
          "data": {
            "text/plain": [
              "tensor([  101,  3568,  1010,  2009,  2323,  2763,  2272,  2004,  2053,  4474,\n",
              "         2008,  1045, 22057,  1996,  3160,  1997,  1000,  2054,  3599,  2024,\n",
              "         2057,  2725,  2182,  1029,  1000,  1012,  2092,  1010,  2008,  2067,\n",
              "        10273,  2094,  1010,  2004,  2002,  2035, 13936,  2000,  1996,  2755,\n",
              "         2002,  2001,  2205, 20229,  2041,  1997,  1037,  2146,  2744,  3276,\n",
              "         1998,  2134,  1005,  1056,  2215,  2000, 10797,  2664,  1006,  4463,\n",
              "         2018,  2042,  2309,  2005,  2062,  2084,  1037,  2095,  1998,  2009,\n",
              "         2001,  1037,  1017,  2095,  3276,  1007,  1012,  1045,  2978,  2026,\n",
              "         4416,  2127,  2009, 23919,  1998,  2409,  2032,  2008,  2001,  3100,\n",
              "         2138,  2057,  2018,  2062,  2814,  1999,  2691,  2011,  2008,  2391,\n",
              "         1010,  2750,  3038,  1045,  2734,  2070,  3622,  2686,  2005,  1037,\n",
              "         2261,  3134,  2030,  2062,  1012,  6854,  1010,  2054,  2628,  2071,\n",
              "         2031,  2025,  2042,  2062,  6355,  1012,  2025,   102])"
            ]
          },
          "execution_count": 195,
          "metadata": {},
          "output_type": "execute_result"
        }
      ],
      "execution_count": null
    },
    {
      "cell_type": "code",
      "metadata": {
        "colab": {
          "base_uri": "https://localhost:8080/"
        },
        "id": "sxWcnZ8ku12V",
        "outputId": "26522911-c3cd-466a-ae2d-d81d23003c23",
        "ExecuteTime": {
          "end_time": "2024-05-19T10:33:40.032575Z",
          "start_time": "2024-05-19T10:33:39.974827Z"
        }
      },
      "source": [
        "outputs = model(input_ids=encoded_dataset['train'][0]['input_ids'].unsqueeze(0),\n",
        "                labels=encoded_dataset['train'][0]['labels'].unsqueeze(0))\n",
        "outputs"
      ],
      "outputs": [
        {
          "data": {
            "text/plain": [
              "SequenceClassifierOutput(loss=tensor(0.6287, grad_fn=<BinaryCrossEntropyWithLogitsBackward0>), logits=tensor([[0.1334]], grad_fn=<AddmmBackward0>), hidden_states=None, attentions=None)"
            ]
          },
          "execution_count": 196,
          "metadata": {},
          "output_type": "execute_result"
        }
      ],
      "execution_count": null
    },
    {
      "cell_type": "markdown",
      "metadata": {
        "id": "f-X2brZcv0X6"
      },
      "source": [
        "Let's start training!"
      ]
    },
    {
      "cell_type": "code",
      "metadata": {
        "id": "chq_3nUz73ib",
        "ExecuteTime": {
          "end_time": "2024-05-19T10:33:41.365775Z",
          "start_time": "2024-05-19T10:33:41.270834Z"
        }
      },
      "source": [
        "trainer = Trainer(\n",
        "    model,\n",
        "    args,\n",
        "    train_dataset=encoded_dataset[\"train\"],\n",
        "    eval_dataset=encoded_dataset[\"test\"],\n",
        "    tokenizer=tokenizer,\n",
        "    compute_metrics=compute_metrics\n",
        ")"
      ],
      "outputs": [],
      "execution_count": null
    },
    {
      "cell_type": "code",
      "metadata": {
        "colab": {
          "base_uri": "https://localhost:8080/",
          "height": 697
        },
        "id": "KXmFds8js6P8",
        "outputId": "58ea58dc-af40-494e-8378-b914ac1246d2",
        "ExecuteTime": {
          "end_time": "2024-05-19T10:37:59.464784Z",
          "start_time": "2024-05-19T10:33:41.858369Z"
        }
      },
      "source": [
        "history = trainer.train()"
      ],
      "outputs": [
        {
          "output_type": "display_data",
          "data": {
            "text/plain": [
              "<IPython.core.display.HTML object>"
            ],
            "text/html": [
              "\n",
              "<!DOCTYPE html>\n",
              "<html lang=\"en\">\n",
              "<head>\n",
              "    <meta charset=\"UTF-8\">\n",
              "    <meta name=\"viewport\" content=\"width=device-width, initial-scale=1.0\">\n",
              "    <title>Progress Bar Example</title>\n",
              "    <style>\n",
              "        .progress-container {\n",
              "            display: flex;\n",
              "            align-items: center;\n",
              "        }\n",
              "        .progress {\n",
              "            width: 300px;\n",
              "            height: 20px;\n",
              "            vertical-align: middle;\n",
              "            margin-right: 10px; /* Space between the bar and text */\n",
              "        }\n",
              "    \n",
              "    </style>\n",
              "</head>\n",
              "<body style=\"background-color: #2e2e2e;\">\n",
              "    <div class=\"progress-container\">\n",
              "        <progress class=\"progress\" value=\"3200\" max=\"3200\"></progress>\n",
              "        <span class=\"progress-text\">[3200/3200 04:17, Epoch 20/20]</span>\n",
              "    </div>\n",
              "</body>\n",
              "</html>\n"
            ]
          },
          "metadata": {}
        },
        {
          "output_type": "execute_result",
          "data": {
            "text/plain": [
              "<pandas.io.formats.style.Styler at 0x7e7f2faa7790>"
            ],
            "text/html": [
              "<style type=\"text/css\">\n",
              "#T_372d5 thead th {\n",
              "}\n",
              "#T_372d5_row0_col0, #T_372d5_row0_col1, #T_372d5_row0_col2, #T_372d5_row0_col4, #T_372d5_row0_col5, #T_372d5_row1_col0, #T_372d5_row1_col1, #T_372d5_row1_col2, #T_372d5_row1_col4, #T_372d5_row1_col5, #T_372d5_row2_col0, #T_372d5_row2_col1, #T_372d5_row2_col2, #T_372d5_row2_col4, #T_372d5_row2_col5, #T_372d5_row3_col0, #T_372d5_row3_col1, #T_372d5_row3_col2, #T_372d5_row3_col4, #T_372d5_row3_col5, #T_372d5_row4_col0, #T_372d5_row4_col1, #T_372d5_row4_col2, #T_372d5_row4_col4, #T_372d5_row4_col5, #T_372d5_row5_col0, #T_372d5_row5_col1, #T_372d5_row5_col2, #T_372d5_row5_col4, #T_372d5_row5_col5, #T_372d5_row6_col0, #T_372d5_row6_col1, #T_372d5_row6_col2, #T_372d5_row6_col4, #T_372d5_row6_col5, #T_372d5_row7_col0, #T_372d5_row7_col1, #T_372d5_row7_col2, #T_372d5_row7_col4, #T_372d5_row7_col5, #T_372d5_row8_col0, #T_372d5_row8_col1, #T_372d5_row8_col2, #T_372d5_row8_col4, #T_372d5_row8_col5, #T_372d5_row9_col0, #T_372d5_row9_col1, #T_372d5_row9_col2, #T_372d5_row9_col4, #T_372d5_row9_col5, #T_372d5_row10_col0, #T_372d5_row10_col1, #T_372d5_row10_col2, #T_372d5_row10_col4, #T_372d5_row10_col5, #T_372d5_row11_col0, #T_372d5_row11_col1, #T_372d5_row11_col2, #T_372d5_row11_col4, #T_372d5_row11_col5, #T_372d5_row12_col0, #T_372d5_row12_col1, #T_372d5_row12_col2, #T_372d5_row12_col4, #T_372d5_row12_col5, #T_372d5_row13_col0, #T_372d5_row13_col1, #T_372d5_row13_col2, #T_372d5_row13_col4, #T_372d5_row13_col5, #T_372d5_row14_col0, #T_372d5_row14_col1, #T_372d5_row14_col2, #T_372d5_row14_col4, #T_372d5_row14_col5, #T_372d5_row15_col0, #T_372d5_row15_col1, #T_372d5_row15_col2, #T_372d5_row15_col4, #T_372d5_row15_col5, #T_372d5_row16_col0, #T_372d5_row16_col1, #T_372d5_row16_col2, #T_372d5_row16_col4, #T_372d5_row16_col5, #T_372d5_row17_col0, #T_372d5_row17_col1, #T_372d5_row17_col2, #T_372d5_row17_col4, #T_372d5_row17_col5, #T_372d5_row18_col0, #T_372d5_row18_col1, #T_372d5_row18_col2, #T_372d5_row18_col4, #T_372d5_row18_col5, #T_372d5_row19_col0, #T_372d5_row19_col1, #T_372d5_row19_col2, #T_372d5_row19_col4, #T_372d5_row19_col5 {\n",
              "  text-align: right;\n",
              "  border: 0px solid white;\n",
              "}\n",
              "#T_372d5_row0_col3, #T_372d5_row1_col3, #T_372d5_row2_col3, #T_372d5_row3_col3, #T_372d5_row4_col3, #T_372d5_row5_col3, #T_372d5_row6_col3, #T_372d5_row7_col3, #T_372d5_row8_col3, #T_372d5_row9_col3, #T_372d5_row10_col3, #T_372d5_row11_col3, #T_372d5_row12_col3, #T_372d5_row13_col3, #T_372d5_row14_col3, #T_372d5_row15_col3, #T_372d5_row16_col3, #T_372d5_row17_col3, #T_372d5_row18_col3, #T_372d5_row19_col3 {\n",
              "  text-align: right;\n",
              "  border: 0px solid white;\n",
              "  align: left;\n",
              "}\n",
              "</style>\n",
              "<table id=\"T_372d5\" class=\"dataframe\">\n",
              "  <thead>\n",
              "    <tr>\n",
              "      <th id=\"T_372d5_level0_col0\" class=\"col_heading level0 col0\" >Epoch</th>\n",
              "      <th id=\"T_372d5_level0_col1\" class=\"col_heading level0 col1\" >Training Loss</th>\n",
              "      <th id=\"T_372d5_level0_col2\" class=\"col_heading level0 col2\" >Validation Loss</th>\n",
              "      <th id=\"T_372d5_level0_col3\" class=\"col_heading level0 col3\" >F1</th>\n",
              "      <th id=\"T_372d5_level0_col4\" class=\"col_heading level0 col4\" >Roc Auc</th>\n",
              "      <th id=\"T_372d5_level0_col5\" class=\"col_heading level0 col5\" >Accuracy</th>\n",
              "    </tr>\n",
              "  </thead>\n",
              "  <tbody>\n",
              "    <tr>\n",
              "      <td id=\"T_372d5_row0_col0\" class=\"data row0 col0\" >1</td>\n",
              "      <td id=\"T_372d5_row0_col1\" class=\"data row0 col1\" >No log</td>\n",
              "      <td id=\"T_372d5_row0_col2\" class=\"data row0 col2\" >0.659167</td>\n",
              "      <td id=\"T_372d5_row0_col3\" class=\"data row0 col3\" >0.602113</td>\n",
              "      <td id=\"T_372d5_row0_col4\" class=\"data row0 col4\" >0.585124</td>\n",
              "      <td id=\"T_372d5_row0_col5\" class=\"data row0 col5\" >0.602113</td>\n",
              "    </tr>\n",
              "    <tr>\n",
              "      <td id=\"T_372d5_row1_col0\" class=\"data row1 col0\" >2</td>\n",
              "      <td id=\"T_372d5_row1_col1\" class=\"data row1 col1\" >No log</td>\n",
              "      <td id=\"T_372d5_row1_col2\" class=\"data row1 col2\" >0.587425</td>\n",
              "      <td id=\"T_372d5_row1_col3\" class=\"data row1 col3\" >0.728873</td>\n",
              "      <td id=\"T_372d5_row1_col4\" class=\"data row1 col4\" >0.723433</td>\n",
              "      <td id=\"T_372d5_row1_col5\" class=\"data row1 col5\" >0.728873</td>\n",
              "    </tr>\n",
              "    <tr>\n",
              "      <td id=\"T_372d5_row2_col0\" class=\"data row2 col0\" >3</td>\n",
              "      <td id=\"T_372d5_row2_col1\" class=\"data row2 col1\" >No log</td>\n",
              "      <td id=\"T_372d5_row2_col2\" class=\"data row2 col2\" >0.537423</td>\n",
              "      <td id=\"T_372d5_row2_col3\" class=\"data row2 col3\" >0.764085</td>\n",
              "      <td id=\"T_372d5_row2_col4\" class=\"data row2 col4\" >0.760348</td>\n",
              "      <td id=\"T_372d5_row2_col5\" class=\"data row2 col5\" >0.764085</td>\n",
              "    </tr>\n",
              "    <tr>\n",
              "      <td id=\"T_372d5_row3_col0\" class=\"data row3 col0\" >4</td>\n",
              "      <td id=\"T_372d5_row3_col1\" class=\"data row3 col1\" >0.620700</td>\n",
              "      <td id=\"T_372d5_row3_col2\" class=\"data row3 col2\" >0.503808</td>\n",
              "      <td id=\"T_372d5_row3_col3\" class=\"data row3 col3\" >0.781690</td>\n",
              "      <td id=\"T_372d5_row3_col4\" class=\"data row3 col4\" >0.778209</td>\n",
              "      <td id=\"T_372d5_row3_col5\" class=\"data row3 col5\" >0.781690</td>\n",
              "    </tr>\n",
              "    <tr>\n",
              "      <td id=\"T_372d5_row4_col0\" class=\"data row4 col0\" >5</td>\n",
              "      <td id=\"T_372d5_row4_col1\" class=\"data row4 col1\" >0.620700</td>\n",
              "      <td id=\"T_372d5_row4_col2\" class=\"data row4 col2\" >0.482731</td>\n",
              "      <td id=\"T_372d5_row4_col3\" class=\"data row4 col3\" >0.778169</td>\n",
              "      <td id=\"T_372d5_row4_col4\" class=\"data row4 col4\" >0.773682</td>\n",
              "      <td id=\"T_372d5_row4_col5\" class=\"data row4 col5\" >0.778169</td>\n",
              "    </tr>\n",
              "    <tr>\n",
              "      <td id=\"T_372d5_row5_col0\" class=\"data row5 col0\" >6</td>\n",
              "      <td id=\"T_372d5_row5_col1\" class=\"data row5 col1\" >0.620700</td>\n",
              "      <td id=\"T_372d5_row5_col2\" class=\"data row5 col2\" >0.454386</td>\n",
              "      <td id=\"T_372d5_row5_col3\" class=\"data row5 col3\" >0.813380</td>\n",
              "      <td id=\"T_372d5_row5_col4\" class=\"data row5 col4\" >0.813781</td>\n",
              "      <td id=\"T_372d5_row5_col5\" class=\"data row5 col5\" >0.813380</td>\n",
              "    </tr>\n",
              "    <tr>\n",
              "      <td id=\"T_372d5_row6_col0\" class=\"data row6 col0\" >7</td>\n",
              "      <td id=\"T_372d5_row6_col1\" class=\"data row6 col1\" >0.485500</td>\n",
              "      <td id=\"T_372d5_row6_col2\" class=\"data row6 col2\" >0.446598</td>\n",
              "      <td id=\"T_372d5_row6_col3\" class=\"data row6 col3\" >0.806338</td>\n",
              "      <td id=\"T_372d5_row6_col4\" class=\"data row6 col4\" >0.803930</td>\n",
              "      <td id=\"T_372d5_row6_col5\" class=\"data row6 col5\" >0.806338</td>\n",
              "    </tr>\n",
              "    <tr>\n",
              "      <td id=\"T_372d5_row7_col0\" class=\"data row7 col0\" >8</td>\n",
              "      <td id=\"T_372d5_row7_col1\" class=\"data row7 col1\" >0.485500</td>\n",
              "      <td id=\"T_372d5_row7_col2\" class=\"data row7 col2\" >0.429061</td>\n",
              "      <td id=\"T_372d5_row7_col3\" class=\"data row7 col3\" >0.820423</td>\n",
              "      <td id=\"T_372d5_row7_col4\" class=\"data row7 col4\" >0.820846</td>\n",
              "      <td id=\"T_372d5_row7_col5\" class=\"data row7 col5\" >0.820423</td>\n",
              "    </tr>\n",
              "    <tr>\n",
              "      <td id=\"T_372d5_row8_col0\" class=\"data row8 col0\" >9</td>\n",
              "      <td id=\"T_372d5_row8_col1\" class=\"data row8 col1\" >0.485500</td>\n",
              "      <td id=\"T_372d5_row8_col2\" class=\"data row8 col2\" >0.423258</td>\n",
              "      <td id=\"T_372d5_row8_col3\" class=\"data row8 col3\" >0.830986</td>\n",
              "      <td id=\"T_372d5_row8_col4\" class=\"data row8 col4\" >0.830448</td>\n",
              "      <td id=\"T_372d5_row8_col5\" class=\"data row8 col5\" >0.830986</td>\n",
              "    </tr>\n",
              "    <tr>\n",
              "      <td id=\"T_372d5_row9_col0\" class=\"data row9 col0\" >10</td>\n",
              "      <td id=\"T_372d5_row9_col1\" class=\"data row9 col1\" >0.419200</td>\n",
              "      <td id=\"T_372d5_row9_col2\" class=\"data row9 col2\" >0.416423</td>\n",
              "      <td id=\"T_372d5_row9_col3\" class=\"data row9 col3\" >0.830986</td>\n",
              "      <td id=\"T_372d5_row9_col4\" class=\"data row9 col4\" >0.830050</td>\n",
              "      <td id=\"T_372d5_row9_col5\" class=\"data row9 col5\" >0.830986</td>\n",
              "    </tr>\n",
              "    <tr>\n",
              "      <td id=\"T_372d5_row10_col0\" class=\"data row10 col0\" >11</td>\n",
              "      <td id=\"T_372d5_row10_col1\" class=\"data row10 col1\" >0.419200</td>\n",
              "      <td id=\"T_372d5_row10_col2\" class=\"data row10 col2\" >0.408959</td>\n",
              "      <td id=\"T_372d5_row10_col3\" class=\"data row10 col3\" >0.834507</td>\n",
              "      <td id=\"T_372d5_row10_col4\" class=\"data row10 col4\" >0.834577</td>\n",
              "      <td id=\"T_372d5_row10_col5\" class=\"data row10 col5\" >0.834507</td>\n",
              "    </tr>\n",
              "    <tr>\n",
              "      <td id=\"T_372d5_row11_col0\" class=\"data row11 col0\" >12</td>\n",
              "      <td id=\"T_372d5_row11_col1\" class=\"data row11 col1\" >0.419200</td>\n",
              "      <td id=\"T_372d5_row11_col2\" class=\"data row11 col2\" >0.407149</td>\n",
              "      <td id=\"T_372d5_row11_col3\" class=\"data row11 col3\" >0.838028</td>\n",
              "      <td id=\"T_372d5_row11_col4\" class=\"data row11 col4\" >0.837714</td>\n",
              "      <td id=\"T_372d5_row11_col5\" class=\"data row11 col5\" >0.838028</td>\n",
              "    </tr>\n",
              "    <tr>\n",
              "      <td id=\"T_372d5_row12_col0\" class=\"data row12 col0\" >13</td>\n",
              "      <td id=\"T_372d5_row12_col1\" class=\"data row12 col1\" >0.381400</td>\n",
              "      <td id=\"T_372d5_row12_col2\" class=\"data row12 col2\" >0.404739</td>\n",
              "      <td id=\"T_372d5_row12_col3\" class=\"data row12 col3\" >0.841549</td>\n",
              "      <td id=\"T_372d5_row12_col4\" class=\"data row12 col4\" >0.840448</td>\n",
              "      <td id=\"T_372d5_row12_col5\" class=\"data row12 col5\" >0.841549</td>\n",
              "    </tr>\n",
              "    <tr>\n",
              "      <td id=\"T_372d5_row13_col0\" class=\"data row13 col0\" >14</td>\n",
              "      <td id=\"T_372d5_row13_col1\" class=\"data row13 col1\" >0.381400</td>\n",
              "      <td id=\"T_372d5_row13_col2\" class=\"data row13 col2\" >0.403416</td>\n",
              "      <td id=\"T_372d5_row13_col3\" class=\"data row13 col3\" >0.834507</td>\n",
              "      <td id=\"T_372d5_row13_col4\" class=\"data row13 col4\" >0.833383</td>\n",
              "      <td id=\"T_372d5_row13_col5\" class=\"data row13 col5\" >0.850734</td>\n",
              "    </tr>\n",
              "    <tr>\n",
              "      <td id=\"T_372d5_row14_col0\" class=\"data row14 col0\" >15</td>\n",
              "      <td id=\"T_372d5_row14_col1\" class=\"data row14 col1\" >0.381400</td>\n",
              "      <td id=\"T_372d5_row14_col2\" class=\"data row14 col2\" >0.399187</td>\n",
              "      <td id=\"T_372d5_row14_col3\" class=\"data row14 col3\" >0.834507</td>\n",
              "      <td id=\"T_372d5_row14_col4\" class=\"data row14 col4\" >0.840781</td>\n",
              "      <td id=\"T_372d5_row14_col5\" class=\"data row14 col5\" >0.878507</td>\n",
              "    </tr>\n",
              "    <tr>\n",
              "      <td id=\"T_372d5_row15_col0\" class=\"data row15 col0\" >16</td>\n",
              "      <td id=\"T_372d5_row15_col1\" class=\"data row15 col1\" >0.350400</td>\n",
              "      <td id=\"T_372d5_row15_col2\" class=\"data row15 col2\" >0.399616</td>\n",
              "      <td id=\"T_372d5_row15_col3\" class=\"data row15 col3\" >0.841549</td>\n",
              "      <td id=\"T_372d5_row15_col4\" class=\"data row15 col4\" >0.871244</td>\n",
              "      <td id=\"T_372d5_row15_col5\" class=\"data row15 col5\" >0.897249</td>\n",
              "    </tr>\n",
              "    <tr>\n",
              "      <td id=\"T_372d5_row16_col0\" class=\"data row16 col0\" >17</td>\n",
              "      <td id=\"T_372d5_row16_col1\" class=\"data row16 col1\" >0.350400</td>\n",
              "      <td id=\"T_372d5_row16_col2\" class=\"data row16 col2\" >0.401315</td>\n",
              "      <td id=\"T_372d5_row16_col3\" class=\"data row16 col3\" >0.838028</td>\n",
              "      <td id=\"T_372d5_row16_col4\" class=\"data row16 col4\" >0.878710</td>\n",
              "      <td id=\"T_372d5_row16_col5\" class=\"data row16 col5\" >0.902818</td>\n",
              "    </tr>\n",
              "    <tr>\n",
              "      <td id=\"T_372d5_row17_col0\" class=\"data row17 col0\" >18</td>\n",
              "      <td id=\"T_372d5_row17_col1\" class=\"data row17 col1\" >0.350400</td>\n",
              "      <td id=\"T_372d5_row17_col2\" class=\"data row17 col2\" >0.396701</td>\n",
              "      <td id=\"T_372d5_row17_col3\" class=\"data row17 col3\" >0.834507</td>\n",
              "      <td id=\"T_372d5_row17_col4\" class=\"data row17 col4\" >0.913781</td>\n",
              "      <td id=\"T_372d5_row17_col5\" class=\"data row17 col5\" >0.934507</td>\n",
              "    </tr>\n",
              "    <tr>\n",
              "      <td id=\"T_372d5_row18_col0\" class=\"data row18 col0\" >19</td>\n",
              "      <td id=\"T_372d5_row18_col1\" class=\"data row18 col1\" >0.341000</td>\n",
              "      <td id=\"T_372d5_row18_col2\" class=\"data row18 col2\" >0.399884</td>\n",
              "      <td id=\"T_372d5_row18_col3\" class=\"data row18 col3\" >0.868028</td>\n",
              "      <td id=\"T_372d5_row18_col4\" class=\"data row18 col4\" >0.936716</td>\n",
              "      <td id=\"T_372d5_row18_col5\" class=\"data row18 col5\" >0.938028</td>\n",
              "    </tr>\n",
              "    <tr>\n",
              "      <td id=\"T_372d5_row19_col0\" class=\"data row19 col0\" >20</td>\n",
              "      <td id=\"T_372d5_row19_col1\" class=\"data row19 col1\" >0.341000</td>\n",
              "      <td id=\"T_372d5_row19_col2\" class=\"data row19 col2\" >0.397244</td>\n",
              "      <td id=\"T_372d5_row19_col3\" class=\"data row19 col3\" >0.884507</td>\n",
              "      <td id=\"T_372d5_row19_col4\" class=\"data row19 col4\" >0.937781</td>\n",
              "      <td id=\"T_372d5_row19_col5\" class=\"data row19 col5\" >0.941507</td>\n",
              "    </tr>\n",
              "  </tbody>\n",
              "</table>\n"
            ]
          },
          "metadata": {},
          "execution_count": 1
        }
      ],
      "execution_count": 1
    },
    {
      "metadata": {
        "ExecuteTime": {
          "end_time": "2024-05-19T10:39:20.630047Z",
          "start_time": "2024-05-19T10:39:19.845215Z"
        },
        "id": "65di1_uSjlQf"
      },
      "cell_type": "code",
      "source": [
        "trainer.save_model(f'best_model')"
      ],
      "outputs": [],
      "execution_count": null
    },
    {
      "metadata": {
        "ExecuteTime": {
          "end_time": "2024-05-19T10:41:02.328540Z",
          "start_time": "2024-05-19T10:41:02.060607Z"
        },
        "id": "CaR13sEEjlQf",
        "outputId": "456192bc-0e82-41a8-9a59-7917ee68fd27"
      },
      "cell_type": "code",
      "source": [
        "import matplotlib.pyplot as plt\n",
        "\n",
        "\n",
        "def plot_metric(trainer_history, metric_name):\n",
        "    data = list(filter(lambda x: metric_name in x, trainer_history))\n",
        "    data = list(map(lambda x: x[metric_name], data))\n",
        "    plt.plot(data, label=metric_name)\n",
        "    plt.xlabel('Epoch')\n",
        "    plt.ylabel(metric_name)\n",
        "    plt.title(f'Training {metric_name} over Epochs')\n",
        "    plt.legend()\n",
        "    plt.show()\n",
        "\n",
        "\n",
        "plot_metric(trainer.state.log_history[:-1], 'eval_loss')\n",
        "plot_metric(trainer.state.log_history[:-1], 'eval_accuracy')\n",
        "plot_metric(trainer.state.log_history[:-1], 'eval_f1')\n",
        "plot_metric(trainer.state.log_history[:-1], 'eval_roc_auc')\n",
        "\n"
      ],
      "outputs": [
        {
          "data": {
            "text/plain": [
              "<Figure size 640x480 with 1 Axes>"
            ],
            "image/png": "[encoded data removed]"
          },
          "metadata": {},
          "output_type": "display_data"
        },
        {
          "data": {
            "text/plain": [
              "<Figure size 640x480 with 1 Axes>"
            ],
            "image/png": "[encoded data removed]"
          },
          "metadata": {},
          "output_type": "display_data"
        },
        {
          "data": {
            "text/plain": [
              "<Figure size 640x480 with 1 Axes>"
            ],
            "image/png": "[encoded data removed]"
          },
          "metadata": {},
          "output_type": "display_data"
        },
        {
          "data": {
            "text/plain": [
              "<Figure size 640x480 with 1 Axes>"
            ],
            "image/png": "[encoded data removed]"
          },
          "metadata": {},
          "output_type": "display_data"
        }
      ],
      "execution_count": null
    },
    {
      "cell_type": "code",
      "metadata": {
        "colab": {
          "base_uri": "https://localhost:8080/",
          "height": 263
        },
        "id": "cMlebJ83LRYG",
        "outputId": "2cdaeecd-d97a-416d-ff89-b8ef07b653a8"
      },
      "source": [
        "trainer.evaluate()"
      ],
      "execution_count": 4,
      "outputs": [
        {
          "output_type": "stream",
          "name": "stdout",
          "text": [
            "\n",
            "***** Running Evaluation *****\n",
            "  Num examples = 886\n",
            "  Batch size = 16\n"
          ]
        },
        {
          "output_type": "display_data",
          "data": {
            "text/plain": [
              "<IPython.core.display.HTML object>"
            ],
            "text/html": [
              "\n",
              "<!DOCTYPE html>\n",
              "<html lang=\"en\">\n",
              "<head>\n",
              "    <meta charset=\"UTF-8\">\n",
              "    <meta name=\"viewport\" content=\"width=device-width, initial-scale=1.0\">\n",
              "    <title>Progress Bar Example</title>\n",
              "    <style>\n",
              "        .progress-container {\n",
              "            display: flex;\n",
              "            align-items: center;\n",
              "        }\n",
              "        .progress {\n",
              "            width: 300px;\n",
              "            height: 20px;\n",
              "            vertical-align: middle;\n",
              "            margin-right: 10px; /* Space between the bar and text */\n",
              "        }\n",
              "    \n",
              "    </style>\n",
              "</head>\n",
              "<body style=\"background-color: #2e2e2e;\">\n",
              "    <div class=\"progress-container\">\n",
              "        <progress class=\"progress\" value=\"3200\" max=\"3200\"></progress>\n",
              "        <span class=\"progress-text\">[408/408 02:01]</span>\n",
              "    </div>\n",
              "</body>\n",
              "</html>\n"
            ]
          },
          "metadata": {}
        },
        {
          "output_type": "stream",
          "name": "stdout",
          "text": [
            "{'epoch': 20.0,\n",
            " 'eval_accuracy': 09379909706546275,\n",
            " 'eval_f1': 0.8596149188665537,\n",
            " 'eval_loss': 0.31915703415870667,\n",
            " 'eval_roc_auc': 0.845805895058838,\n",
            " 'eval_runtime': 4.7187,\n",
            " 'eval_samples_per_second': 187.766,\n",
            " 'eval_steps_per_second': 23.524}\n",
            "\n"
          ]
        }
      ]
    },
    {
      "cell_type": "code",
      "metadata": {
        "id": "3fxjfr8PLD42"
      },
      "source": [
        "text = \"I'm happy I can finally train a model for multi-label classification and finish it\"\n",
        "\n",
        "encoding = tokenizer(text, return_tensors=\"pt\")\n",
        "encoding = {k: v.to(trainer.model.device) for k, v in encoding.items()}\n",
        "\n",
        "outputs = trainer.model(**encoding)"
      ],
      "execution_count": null,
      "outputs": []
    },
    {
      "cell_type": "code",
      "metadata": {
        "colab": {
          "base_uri": "https://localhost:8080/"
        },
        "id": "KOBosj4UL2tU",
        "outputId": "be370f49-3840-4c76-b193-76083e49701e"
      },
      "source": [
        "logits = outputs.logits\n",
        "logits.shape"
      ],
      "execution_count": null,
      "outputs": [
        {
          "output_type": "execute_result",
          "data": {
            "text/plain": [
              "torch.Size([1, 11])"
            ]
          },
          "metadata": {},
          "execution_count": 48
        }
      ]
    }
  ]
}